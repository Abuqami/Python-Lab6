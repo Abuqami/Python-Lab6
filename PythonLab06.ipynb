{
 "cells": [
  {
   "cell_type": "code",
   "execution_count": null,
   "id": "a47769b7",
   "metadata": {},
   "outputs": [],
   "source": [
    "import re\n",
    "\n",
    "phone_book = {\n",
    "    'Name': ['Amal','Mohammed','Khadijah','Abdullah','Rawan','Faisal','Layla'],\n",
    "    'Number': ['1111111111','2222222222','3333333333','4444444444','5555555555','6666666666','7777777777']\n",
    "}\n",
    "\n",
    "search_number = input('Enter a number:  ')\n",
    "name = None\n",
    "if(not re.match(\"^[0-9 -]+$\", search_number)): #This line will check if the input contains any special characters or letters\n",
    "    print('This is invalid number, please make sure your input contains only digits')\n",
    "elif(len(search_number)!=10):\n",
    "    print('This is invalid number, please make sure your input contains 10 numbers ')\n",
    "else:\n",
    "    for name, number in zip(phone_book['Name'], phone_book['Number']): #using zip will help in packing the two lists which will make the searching process more easier\n",
    "        if search_number == number:\n",
    "            print(name)\n",
    "            break\n",
    "    else:\n",
    "        print('Sorry, the number is not found')\n",
    "            \n"
   ]
  }
 ],
 "metadata": {
  "kernelspec": {
   "display_name": "Python 3 (ipykernel)",
   "language": "python",
   "name": "python3"
  },
  "language_info": {
   "codemirror_mode": {
    "name": "ipython",
    "version": 3
   },
   "file_extension": ".py",
   "mimetype": "text/x-python",
   "name": "python",
   "nbconvert_exporter": "python",
   "pygments_lexer": "ipython3",
   "version": "3.11.3"
  }
 },
 "nbformat": 4,
 "nbformat_minor": 5
}
